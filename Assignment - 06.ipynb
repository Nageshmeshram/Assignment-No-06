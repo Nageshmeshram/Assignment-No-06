{
 "cells": [
  {
   "cell_type": "markdown",
   "id": "4ba4b541",
   "metadata": {},
   "source": [
    "1. What are escape characters, and how do you use them?"
   ]
  },
  {
   "cell_type": "markdown",
   "id": "a4ec6d3f",
   "metadata": {},
   "source": [
    "Answer: in python backslash \"\\\" is used as special perpose also called escape characters. it is used like \n",
    "\"\\n\"  for new line\n",
    "\"\\a\"  escaping charactor\n",
    "\"\\t\"  for tab \n",
    "\"\\r\"  for carriage return which means cursur move to left most \n",
    "anything just after \"\\\" is acted like escape \n",
    "following Examples"
   ]
  },
  {
   "cell_type": "code",
   "execution_count": 4,
   "id": "4db79be3",
   "metadata": {},
   "outputs": [
    {
     "name": "stdout",
     "output_type": "stream",
     "text": [
      "Hi this is Nagesh. What about you? all good!\n"
     ]
    }
   ],
   "source": [
    "print(\"Hi this is Nagesh. What about you? all good!\")"
   ]
  },
  {
   "cell_type": "code",
   "execution_count": 5,
   "id": "d467b8ee",
   "metadata": {},
   "outputs": [
    {
     "name": "stdout",
     "output_type": "stream",
     "text": [
      "Hi this is Nagesh \n",
      "what about you? \n",
      "all good!\n"
     ]
    }
   ],
   "source": [
    "print(\"Hi this is Nagesh \\nwhat about you? \\nall good!\") # \"\\n\" used here perform the new line operation"
   ]
  },
  {
   "cell_type": "code",
   "execution_count": 6,
   "id": "e080b696",
   "metadata": {},
   "outputs": [
    {
     "name": "stdout",
     "output_type": "stream",
     "text": [
      "Hi this is Nagesh \twhat about you? \tall good!\n"
     ]
    }
   ],
   "source": [
    "print(\"Hi this is Nagesh \\twhat about you? \\tall good!\") # \"\\t\" used here which resulting into tab in between words"
   ]
  },
  {
   "cell_type": "code",
   "execution_count": 10,
   "id": "d41817f5",
   "metadata": {},
   "outputs": [
    {
     "name": "stdout",
     "output_type": "stream",
     "text": [
      "Hi this is Nagesh \r",
      "what about you? \r",
      "all good!\n"
     ]
    }
   ],
   "source": [
    "print(\"Hi this is Nagesh \\rwhat about you? \\rall good!\") # here in this case using \"\\r\" only return carriage "
   ]
  },
  {
   "cell_type": "code",
   "execution_count": 17,
   "id": "c2e0fb13",
   "metadata": {},
   "outputs": [
    {
     "name": "stdout",
     "output_type": "stream",
     "text": [
      "\u0007anesh\n"
     ]
    }
   ],
   "source": [
    "print(\"\\aanesh\") # here \"\\a\" just eacaping "
   ]
  },
  {
   "cell_type": "markdown",
   "id": "d5289c9c",
   "metadata": {},
   "source": [
    "2. What do the escape characters n and t stand for?"
   ]
  },
  {
   "cell_type": "markdown",
   "id": "7aba1c28",
   "metadata": {},
   "source": [
    "Answer: \n",
    "    n for new line\n",
    "    t for tab"
   ]
  },
  {
   "cell_type": "markdown",
   "id": "0fd1344b",
   "metadata": {},
   "source": [
    "3. What is the way to include backslash characters in a string?"
   ]
  },
  {
   "cell_type": "markdown",
   "id": "f1dfb044",
   "metadata": {},
   "source": [
    "Answer:\n",
    "    to use the backslash we have to do like \"\\\\\" using double backslash. like following example"
   ]
  },
  {
   "cell_type": "code",
   "execution_count": 19,
   "id": "86ee8f9e",
   "metadata": {},
   "outputs": [
    {
     "name": "stdout",
     "output_type": "stream",
     "text": [
      "\\ this is backslash \n"
     ]
    }
   ],
   "source": [
    "print(\"\\ this is backslash \")"
   ]
  },
  {
   "cell_type": "code",
   "execution_count": 20,
   "id": "aba44d09",
   "metadata": {},
   "outputs": [
    {
     "name": "stdout",
     "output_type": "stream",
     "text": [
      "\\\n"
     ]
    }
   ],
   "source": [
    "print(\"\\\\\")"
   ]
  },
  {
   "cell_type": "markdown",
   "id": "56b79302",
   "metadata": {},
   "source": [
    "4. The string \"Howl's Moving Castle\" is a correct value. Why isn't the single quote character in the\n",
    "word Howl's not escaped a problem?"
   ]
  },
  {
   "cell_type": "code",
   "execution_count": null,
   "id": "df4514d0",
   "metadata": {},
   "outputs": [],
   "source": [
    "Answer:"
   ]
  },
  {
   "cell_type": "code",
   "execution_count": 21,
   "id": "53eb7f59",
   "metadata": {},
   "outputs": [
    {
     "name": "stdout",
     "output_type": "stream",
     "text": [
      "Howl's Moving Castle\n"
     ]
    }
   ],
   "source": [
    "print(\"Howl's Moving Castle\")"
   ]
  },
  {
   "cell_type": "markdown",
   "id": "9760f53f",
   "metadata": {},
   "source": [
    "5. How do you write a string of newlines if you don't want to use the n character?"
   ]
  },
  {
   "cell_type": "code",
   "execution_count": null,
   "id": "b304c86e",
   "metadata": {},
   "outputs": [],
   "source": [
    "Answer : by using like as following"
   ]
  },
  {
   "cell_type": "code",
   "execution_count": 24,
   "id": "208c42b7",
   "metadata": {},
   "outputs": [
    {
     "name": "stdout",
     "output_type": "stream",
     "text": [
      "hi \n",
      "hello\n"
     ]
    }
   ],
   "source": [
    "print(\"hi \")\n",
    "print(\"hello\")"
   ]
  },
  {
   "cell_type": "markdown",
   "id": "c3de6ae4",
   "metadata": {},
   "source": [
    "6. What are the values of the given expressions?\n",
    "\n",
    " \"Hello, world!\" [1]\n",
    " \"Hello, world!\" [0:5]\n",
    " \"Hello, world!\" [:5]\n",
    " \"Hello, world!\" [3:]"
   ]
  },
  {
   "cell_type": "code",
   "execution_count": null,
   "id": "e07c7096",
   "metadata": {},
   "outputs": [],
   "source": [
    "Answer:"
   ]
  },
  {
   "cell_type": "code",
   "execution_count": 25,
   "id": "f823b088",
   "metadata": {},
   "outputs": [],
   "source": [
    "l = \"hello world!\""
   ]
  },
  {
   "cell_type": "code",
   "execution_count": 27,
   "id": "c4704071",
   "metadata": {},
   "outputs": [
    {
     "data": {
      "text/plain": [
       "'e'"
      ]
     },
     "execution_count": 27,
     "metadata": {},
     "output_type": "execute_result"
    }
   ],
   "source": [
    "l[1]"
   ]
  },
  {
   "cell_type": "code",
   "execution_count": 29,
   "id": "e8837a3b",
   "metadata": {},
   "outputs": [
    {
     "data": {
      "text/plain": [
       "'hello'"
      ]
     },
     "execution_count": 29,
     "metadata": {},
     "output_type": "execute_result"
    }
   ],
   "source": [
    "l[0:5]"
   ]
  },
  {
   "cell_type": "code",
   "execution_count": 28,
   "id": "f11609f5",
   "metadata": {},
   "outputs": [
    {
     "data": {
      "text/plain": [
       "'hello'"
      ]
     },
     "execution_count": 28,
     "metadata": {},
     "output_type": "execute_result"
    }
   ],
   "source": [
    "l[:5]"
   ]
  },
  {
   "cell_type": "code",
   "execution_count": 30,
   "id": "06f98d46",
   "metadata": {},
   "outputs": [
    {
     "data": {
      "text/plain": [
       "'lo world!'"
      ]
     },
     "execution_count": 30,
     "metadata": {},
     "output_type": "execute_result"
    }
   ],
   "source": [
    "l[3:]"
   ]
  },
  {
   "cell_type": "markdown",
   "id": "4fcce8e9",
   "metadata": {},
   "source": [
    "7. What are the values of the following expressions?\n",
    " Hello .upper()\n",
    " Hello .upper().isupper()\n",
    " Hello .upper().lower()\n",
    " \n",
    " Answer:"
   ]
  },
  {
   "cell_type": "code",
   "execution_count": 32,
   "id": "20c4d54a",
   "metadata": {},
   "outputs": [
    {
     "data": {
      "text/plain": [
       "'HELLOW'"
      ]
     },
     "execution_count": 32,
     "metadata": {},
     "output_type": "execute_result"
    }
   ],
   "source": [
    " 'Hellow'.upper() # all charctor will be in upper case"
   ]
  },
  {
   "cell_type": "code",
   "execution_count": 33,
   "id": "1330eec7",
   "metadata": {},
   "outputs": [
    {
     "data": {
      "text/plain": [
       "True"
      ]
     },
     "execution_count": 33,
     "metadata": {},
     "output_type": "execute_result"
    }
   ],
   "source": [
    "' Hello'.upper().isupper() # it is checking where given string is in upper or in lower case"
   ]
  },
  {
   "cell_type": "code",
   "execution_count": 35,
   "id": "783600bd",
   "metadata": {},
   "outputs": [
    {
     "data": {
      "text/plain": [
       "' hello '"
      ]
     },
     "execution_count": 35,
     "metadata": {},
     "output_type": "execute_result"
    }
   ],
   "source": [
    "' Hello '.upper().lower() # it is converting the first in upper case then in lower case ass return value in lower case"
   ]
  },
  {
   "cell_type": "markdown",
   "id": "6eb7aee8",
   "metadata": {},
   "source": [
    "8. What are the values of the following expressions?\n",
    " \"Remember, remember, the fifth of July.\" .split()\n",
    " \"-\".join(\"There can only one.\".split())\n",
    " \n",
    " Answer:"
   ]
  },
  {
   "cell_type": "code",
   "execution_count": 36,
   "id": "aefca427",
   "metadata": {},
   "outputs": [
    {
     "data": {
      "text/plain": [
       "['Remember,', 'remember,', 'the', 'fifth', 'of', 'July.']"
      ]
     },
     "execution_count": 36,
     "metadata": {},
     "output_type": "execute_result"
    }
   ],
   "source": [
    "\"Remember, remember, the fifth of July.\" .split() # it is spitting each words and return in list formate"
   ]
  },
  {
   "cell_type": "code",
   "execution_count": 37,
   "id": "9f725e82",
   "metadata": {},
   "outputs": [
    {
     "data": {
      "text/plain": [
       "'There-can-only-one.'"
      ]
     },
     "execution_count": 37,
     "metadata": {},
     "output_type": "execute_result"
    }
   ],
   "source": [
    "\"-\".join(\"There can only one.\".split()) # here each word slitted by \"-\" we can also say joint by \"-\""
   ]
  },
  {
   "cell_type": "markdown",
   "id": "445aecf3",
   "metadata": {},
   "source": [
    "9. What are the methods for right-justifying, left-justifying, and centering a string?\n",
    "Answer:\n",
    "this are string alling elemnts in python to shift the string left most or ritgh most or at centre of given string length"
   ]
  },
  {
   "cell_type": "code",
   "execution_count": 44,
   "id": "1e322982",
   "metadata": {},
   "outputs": [],
   "source": [
    "s = 'Hello'"
   ]
  },
  {
   "cell_type": "code",
   "execution_count": 43,
   "id": "8efbca42",
   "metadata": {},
   "outputs": [
    {
     "data": {
      "text/plain": [
       "'Hello               '"
      ]
     },
     "execution_count": 43,
     "metadata": {},
     "output_type": "execute_result"
    }
   ],
   "source": [
    "s.ljust(20) # alling to left side"
   ]
  },
  {
   "cell_type": "code",
   "execution_count": 40,
   "id": "c359dd43",
   "metadata": {},
   "outputs": [
    {
     "data": {
      "text/plain": [
       "'               Hello'"
      ]
     },
     "execution_count": 40,
     "metadata": {},
     "output_type": "execute_result"
    }
   ],
   "source": [
    "s.rjust(20)# alling to right side"
   ]
  },
  {
   "cell_type": "code",
   "execution_count": 42,
   "id": "b4cbffde",
   "metadata": {},
   "outputs": [
    {
     "data": {
      "text/plain": [
       "'       Hello        '"
      ]
     },
     "execution_count": 42,
     "metadata": {},
     "output_type": "execute_result"
    }
   ],
   "source": [
    "s.center(20) # alling at center "
   ]
  },
  {
   "cell_type": "markdown",
   "id": "3c4eb9a9",
   "metadata": {},
   "source": [
    "10. What is the best way to remove whitespace characters from the start or end?\n",
    "Answer:\n",
    "  by using strip() this can remove the satrt and end whitespace, like show in following way"
   ]
  },
  {
   "cell_type": "code",
   "execution_count": 51,
   "id": "02da4e34",
   "metadata": {},
   "outputs": [],
   "source": [
    "l2='            hello ji kaise ho?         '"
   ]
  },
  {
   "cell_type": "code",
   "execution_count": 52,
   "id": "5043610b",
   "metadata": {},
   "outputs": [
    {
     "data": {
      "text/plain": [
       "'            hello ji kaise ho?         '"
      ]
     },
     "execution_count": 52,
     "metadata": {},
     "output_type": "execute_result"
    }
   ],
   "source": [
    "l2"
   ]
  },
  {
   "cell_type": "code",
   "execution_count": 49,
   "id": "e440ac38",
   "metadata": {},
   "outputs": [
    {
     "data": {
      "text/plain": [
       "'hello ji kaise ho?'"
      ]
     },
     "execution_count": 49,
     "metadata": {},
     "output_type": "execute_result"
    }
   ],
   "source": [
    "l2.strip() "
   ]
  }
 ],
 "metadata": {
  "kernelspec": {
   "display_name": "Python 3 (ipykernel)",
   "language": "python",
   "name": "python3"
  },
  "language_info": {
   "codemirror_mode": {
    "name": "ipython",
    "version": 3
   },
   "file_extension": ".py",
   "mimetype": "text/x-python",
   "name": "python",
   "nbconvert_exporter": "python",
   "pygments_lexer": "ipython3",
   "version": "3.9.12"
  }
 },
 "nbformat": 4,
 "nbformat_minor": 5
}
